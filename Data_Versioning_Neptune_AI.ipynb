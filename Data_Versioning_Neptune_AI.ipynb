{
  "nbformat": 4,
  "nbformat_minor": 0,
  "metadata": {
    "colab": {
      "provenance": [],
      "authorship_tag": "ABX9TyNGILgWGs4kXmCnCPyLmRVf",
      "include_colab_link": true
    },
    "kernelspec": {
      "name": "python3",
      "display_name": "Python 3"
    },
    "language_info": {
      "name": "python"
    }
  },
  "cells": [
    {
      "cell_type": "markdown",
      "metadata": {
        "id": "view-in-github",
        "colab_type": "text"
      },
      "source": [
        "<a href=\"https://colab.research.google.com/github/blacurly/MLOps/blob/main/Data_Versioning_Neptune_AI.ipynb\" target=\"_parent\"><img src=\"https://colab.research.google.com/assets/colab-badge.svg\" alt=\"Open In Colab\"/></a>"
      ]
    },
    {
      "cell_type": "code",
      "source": [
        "#pip install neptune\n",
        "import neptune\n",
        "import hashlib"
      ],
      "metadata": {
        "id": "9oF_9CIpZchm"
      },
      "execution_count": null,
      "outputs": []
    },
    {
      "cell_type": "code",
      "source": [
        "from google.colab import drive\n",
        "drive.mount('/content/drive')"
      ],
      "metadata": {
        "colab": {
          "base_uri": "https://localhost:8080/"
        },
        "id": "EOIHIEaxbKLl",
        "outputId": "5e0885b1-0735-4ec5-c25c-7818f1106fab"
      },
      "execution_count": null,
      "outputs": [
        {
          "output_type": "stream",
          "name": "stdout",
          "text": [
            "Mounted at /content/drive\n"
          ]
        }
      ]
    },
    {
      "cell_type": "code",
      "execution_count": null,
      "metadata": {
        "id": "IOBEFIFVCa3T",
        "colab": {
          "base_uri": "https://localhost:8080/"
        },
        "outputId": "9f9cc75d-eab3-4a8b-c9cf-8a558d7218b3"
      },
      "outputs": [
        {
          "output_type": "stream",
          "name": "stdout",
          "text": [
            "[neptune] [info   ] Neptune initialized. Open in the app: https://app.neptune.ai/blacurly/MLOps/e/MLOP-3\n"
          ]
        }
      ],
      "source": [
        "run = neptune.init_run(\n",
        "    project=\"blacurly/MLOps\",\n",
        "    api_token=\"eyJhcGlfYWRkcmVzcyI6Imh0dHBzOi8vYXBwLm5lcHR1bmUuYWkiLCJhcGlfdXJsIjoiaHR0cHM6Ly9hcHAubmVwdHVuZS5haSIsImFwaV9rZXkiOiI5MmQzN2ZjNy01ZGMzLTRkZjUtYWM1My04MzJmYzkwNTkyZWUifQ==\",\n",
        "    name=\"dataset-v1-tracking\"\n",
        ")\n",
        "\n",
        "# Log dataset hash and metadata\n",
        "with open(\"/content/drive/MyDrive/Quarter 4/MLOps/athletes_v1.csv\", \"rb\") as f:\n",
        "    content = f.read()\n",
        "    dataset_hash = hashlib.md5(content).hexdigest()\n",
        "\n",
        "run[\"dataset/name\"] = \"athletes_v1\"\n",
        "run[\"dataset/hash\"] = dataset_hash\n",
        "run[\"dataset/size_bytes\"] = len(content)\n",
        "run[\"dataset/path\"].upload(\"athletes_v1.csv\")"
      ]
    },
    {
      "cell_type": "code",
      "source": [
        "run.stop()"
      ],
      "metadata": {
        "id": "IEIZz_C9zs2s"
      },
      "execution_count": null,
      "outputs": []
    },
    {
      "cell_type": "code",
      "source": [
        "run = neptune.init_run(\n",
        "    project=\"blacurly/MLOps\",\n",
        "    api_token=\"eyJhcGlfYWRkcmVzcyI6Imh0dHBzOi8vYXBwLm5lcHR1bmUuYWkiLCJhcGlfdXJsIjoiaHR0cHM6Ly9hcHAubmVwdHVuZS5haSIsImFwaV9rZXkiOiI5MmQzN2ZjNy01ZGMzLTRkZjUtYWM1My04MzJmYzkwNTkyZWUifQ==\",\n",
        "    name=\"dataset-v2-tracking\"\n",
        ")\n",
        "\n",
        "with open(\"/content/drive/MyDrive/Quarter 4/MLOps/athletes_v2.csv\", \"rb\") as f:\n",
        "    content = f.read()\n",
        "    dataset_hash = hashlib.md5(content).hexdigest()\n",
        "\n",
        "run[\"dataset/name\"] = \"athletes_v2\"\n",
        "run[\"dataset/hash\"] = dataset_hash\n",
        "run[\"dataset/size_bytes\"] = len(content)\n",
        "run[\"dataset/path\"].upload(\"athletes_v2.csv\")"
      ],
      "metadata": {
        "colab": {
          "base_uri": "https://localhost:8080/"
        },
        "id": "2rn5eoR_LDYh",
        "outputId": "00461a50-ab3c-4804-8920-cf3589310046"
      },
      "execution_count": null,
      "outputs": [
        {
          "output_type": "stream",
          "name": "stdout",
          "text": [
            "[neptune] [info   ] Neptune initialized. Open in the app: https://app.neptune.ai/blacurly/MLOps/e/MLOP-4\n"
          ]
        }
      ]
    },
    {
      "cell_type": "code",
      "source": [
        "run.stop()"
      ],
      "metadata": {
        "id": "8ac86FWXzrJn",
        "outputId": "3e8850e5-32df-482f-a611-bdcf33fa3be9",
        "colab": {
          "base_uri": "https://localhost:8080/"
        }
      },
      "execution_count": null,
      "outputs": [
        {
          "output_type": "stream",
          "name": "stdout",
          "text": [
            "[neptune] [info   ] Shutting down background jobs, please wait a moment...\n",
            "[neptune] [info   ] Done!\n",
            "[neptune] [info   ] All 0 operations synced, thanks for waiting!\n",
            "[neptune] [info   ] Explore the metadata in the Neptune app: https://app.neptune.ai/blacurly/MLOps/e/MLOP-4/metadata\n"
          ]
        }
      ]
    },
    {
      "cell_type": "code",
      "source": [],
      "metadata": {
        "id": "AT7nabJXzrk0"
      },
      "execution_count": null,
      "outputs": []
    }
  ]
}