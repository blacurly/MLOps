{
  "cells": [
    {
      "cell_type": "markdown",
      "metadata": {
        "id": "view-in-github",
        "colab_type": "text"
      },
      "source": [
        "<a href=\"https://colab.research.google.com/github/blacurly/MLOps/blob/main/Neptune_Athletes_V1.ipynb\" target=\"_parent\"><img src=\"https://colab.research.google.com/assets/colab-badge.svg\" alt=\"Open In Colab\"/></a>"
      ]
    },
    {
      "cell_type": "code",
      "source": [
        "#pip install neptune"
      ],
      "metadata": {
        "id": "7h83vfhE3cc8"
      },
      "id": "7h83vfhE3cc8",
      "execution_count": null,
      "outputs": []
    },
    {
      "cell_type": "code",
      "execution_count": null,
      "id": "9aa109bc-c111-4b34-b468-c9ddaf0d4019",
      "metadata": {
        "colab": {
          "base_uri": "https://localhost:8080/"
        },
        "id": "9aa109bc-c111-4b34-b468-c9ddaf0d4019",
        "outputId": "f6ee8054-c50e-4051-b731-94b071d5f814"
      },
      "outputs": [
        {
          "output_type": "stream",
          "name": "stdout",
          "text": [
            "Drive already mounted at /content/drive; to attempt to forcibly remount, call drive.mount(\"/content/drive\", force_remount=True).\n"
          ]
        }
      ],
      "source": [
        "from google.colab import drive\n",
        "drive.mount('/content/drive')"
      ]
    },
    {
      "cell_type": "code",
      "execution_count": null,
      "id": "3d5a6f45-b7aa-4bf9-9fa3-baf3e35178a0",
      "metadata": {
        "id": "3d5a6f45-b7aa-4bf9-9fa3-baf3e35178a0"
      },
      "outputs": [],
      "source": [
        "import neptune\n",
        "import pandas as pd\n",
        "import numpy as np\n",
        "from sklearn.ensemble import RandomForestRegressor\n",
        "from sklearn.model_selection import train_test_split\n",
        "from sklearn.metrics import mean_absolute_error, mean_squared_error, r2_score\n",
        "\n",
        "random_state=20250701"
      ]
    },
    {
      "cell_type": "code",
      "execution_count": null,
      "id": "2b865afc-5c79-4701-9f72-ae3254b92e64",
      "metadata": {
        "id": "2b865afc-5c79-4701-9f72-ae3254b92e64"
      },
      "outputs": [],
      "source": [
        "data = pd.read_csv(\"/content/drive/MyDrive/Quarter 4/MLOps/athletes_v1.csv\")"
      ]
    },
    {
      "cell_type": "code",
      "source": [
        "run = neptune.init_run(\n",
        "    project=\"blacurly/MLOps\",\n",
        "    api_token=\"----\",\n",
        "    tags=[\"v1\", \"baseline\",\"random-forest\"],\n",
        "    name=\"baseline-v1-tracking\"\n",
        ")"
      ],
      "metadata": {
        "colab": {
          "base_uri": "https://localhost:8080/"
        },
        "id": "dpTJh9GywCen",
        "outputId": "00cc26f7-4ada-4e9d-f5e9-63aa27c93696"
      },
      "id": "dpTJh9GywCen",
      "execution_count": null,
      "outputs": [
        {
          "output_type": "stream",
          "name": "stderr",
          "text": [
            "[neptune] [warning] NeptuneWarning: By default, these monitoring options are disabled in interactive sessions: 'capture_stdout', 'capture_stderr', 'capture_traceback', 'capture_hardware_metrics'. You can set them to 'True' when initializing the run and the monitoring will continue until you call run.stop() or the kernel stops. NOTE: To track the source files, pass their paths to the 'source_code' argument. For help, see: https://docs-legacy.neptune.ai/logging/source_code/\n"
          ]
        },
        {
          "output_type": "stream",
          "name": "stdout",
          "text": [
            "[neptune] [info   ] Neptune initialized. Open in the app: https://app.neptune.ai/blacurly/MLOps/e/MLOP-11\n"
          ]
        }
      ]
    },
    {
      "cell_type": "code",
      "source": [
        "features = ['age','height','weight', 'deadlift', 'backsq', 'candj', 'snatch']\n",
        "target = 'total_lift'\n",
        "\n",
        "# Split\n",
        "X = data[features]\n",
        "y = data[target]\n",
        "\n",
        "X_train, X_test, y_train, y_test = train_test_split(X, y, test_size=0.2, random_state=random_state)\n",
        "\n",
        "print(f\"Train shape: {X_train.shape}, Test shape: {X_test.shape}\")"
      ],
      "metadata": {
        "colab": {
          "base_uri": "https://localhost:8080/"
        },
        "id": "iBsEZOxjwnUM",
        "outputId": "5edcbcf9-cb82-4918-ff78-fc639758809f"
      },
      "id": "iBsEZOxjwnUM",
      "execution_count": null,
      "outputs": [
        {
          "output_type": "stream",
          "name": "stdout",
          "text": [
            "Train shape: (338404, 7), Test shape: (84602, 7)\n"
          ]
        }
      ]
    },
    {
      "cell_type": "code",
      "source": [
        "rf_model = RandomForestRegressor(n_estimators=100, random_state=random_state)\n",
        "rf_model.fit(X_train, y_train)\n",
        "rf_pred = rf_model.predict(X_test)"
      ],
      "metadata": {
        "id": "wLuPbb7jxT0o"
      },
      "id": "wLuPbb7jxT0o",
      "execution_count": null,
      "outputs": []
    },
    {
      "cell_type": "markdown",
      "source": [
        "##### Log Metrics to Neptune"
      ],
      "metadata": {
        "id": "LgrhZWsIxDgW"
      },
      "id": "LgrhZWsIxDgW"
    },
    {
      "cell_type": "code",
      "source": [
        "def evaluate_and_log_model(name, y_true, y_pred, run):\n",
        "    rmse = np.sqrt(mean_squared_error(y_true, y_pred))\n",
        "    mae = mean_absolute_error(y_true, y_pred)\n",
        "    r2 = r2_score(y_true, y_pred)\n",
        "\n",
        "    # Print\n",
        "    print(f\"{name} Performance:\")\n",
        "    print(f\"RMSE: {rmse:.2f}\")\n",
        "    print(f\"MAE : {mae:.2f}\")\n",
        "    print(f\"R²  : {r2:.3f}\")\n",
        "    print(\"-\" * 30)\n",
        "\n",
        "    # Log to Neptune\n",
        "    run[f\"{name}/RMSE\"] = rmse\n",
        "    run[f\"{name}/MAE\"] = mae\n",
        "    run[f\"{name}/R2\"] = r2"
      ],
      "metadata": {
        "id": "dqwqprgXrrmc"
      },
      "id": "dqwqprgXrrmc",
      "execution_count": null,
      "outputs": []
    },
    {
      "cell_type": "code",
      "source": [
        "evaluate_and_log_model(\"Random Forest\", y_test, rf_pred, run)"
      ],
      "metadata": {
        "colab": {
          "base_uri": "https://localhost:8080/"
        },
        "id": "2mWzbh2Sx0YR",
        "outputId": "c7e24604-3e24-45e7-952e-664f8f3cc1ec"
      },
      "id": "2mWzbh2Sx0YR",
      "execution_count": null,
      "outputs": [
        {
          "output_type": "stream",
          "name": "stdout",
          "text": [
            "Random Forest Performance:\n",
            "RMSE: 67809.06\n",
            "MAE : 308.70\n",
            "R²  : 0.737\n",
            "------------------------------\n"
          ]
        }
      ]
    },
    {
      "cell_type": "code",
      "source": [
        "run.stop()"
      ],
      "metadata": {
        "id": "L3QgjslLrsCj",
        "colab": {
          "base_uri": "https://localhost:8080/"
        },
        "outputId": "e4ccfcac-a4cd-4677-d408-73b226663dae"
      },
      "id": "L3QgjslLrsCj",
      "execution_count": null,
      "outputs": [
        {
          "output_type": "stream",
          "name": "stdout",
          "text": [
            "[neptune] [info   ] Shutting down background jobs, please wait a moment...\n",
            "[neptune] [info   ] Done!\n",
            "[neptune] [info   ] Waiting for the remaining 3 operations to synchronize with Neptune. Do not kill this process.\n",
            "[neptune] [info   ] All 3 operations synced, thanks for waiting!\n",
            "[neptune] [info   ] Explore the metadata in the Neptune app: https://app.neptune.ai/blacurly/MLOps/e/MLOP-11/metadata\n"
          ]
        }
      ]
    }
  ],
  "metadata": {
    "kernelspec": {
      "display_name": "Python 3 (ipykernel)",
      "language": "python",
      "name": "python3"
    },
    "language_info": {
      "codemirror_mode": {
        "name": "ipython",
        "version": 3
      },
      "file_extension": ".py",
      "mimetype": "text/x-python",
      "name": "python",
      "nbconvert_exporter": "python",
      "pygments_lexer": "ipython3",
      "version": "3.12.3"
    },
    "colab": {
      "provenance": [],
      "include_colab_link": true
    }
  },
  "nbformat": 4,
  "nbformat_minor": 5
}